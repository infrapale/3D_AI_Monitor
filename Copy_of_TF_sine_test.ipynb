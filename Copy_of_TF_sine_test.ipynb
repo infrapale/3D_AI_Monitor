{
  "nbformat": 4,
  "nbformat_minor": 0,
  "metadata": {
    "colab": {
      "name": "Copy of TF_sine_test.ipynb",
      "provenance": [],
      "authorship_tag": "ABX9TyNfk3FBgE2MWp3LmJT5Co79",
      "include_colab_link": true
    },
    "kernelspec": {
      "name": "python3",
      "display_name": "Python 3"
    }
  },
  "cells": [
    {
      "cell_type": "markdown",
      "metadata": {
        "id": "view-in-github",
        "colab_type": "text"
      },
      "source": [
        "<a href=\"https://colab.research.google.com/github/infrapale/3D_AI_Monitor/blob/master/Copy_of_TF_sine_test.ipynb\" target=\"_parent\"><img src=\"https://colab.research.google.com/assets/colab-badge.svg\" alt=\"Open In Colab\"/></a>"
      ]
    },
    {
      "cell_type": "markdown",
      "metadata": {
        "id": "0KZv793dnH4C",
        "colab_type": "text"
      },
      "source": [
        "# Testing Google Colab"
      ]
    },
    {
      "cell_type": "code",
      "metadata": {
        "id": "G9f5G4annX48",
        "colab_type": "code",
        "colab": {}
      },
      "source": [
        "# TensorFlow is an open source machine learning library \n",
        "# !pip install tensorflow==2.0 \n",
        "import tensorflow as tf \n",
        "# NumPy is a math library \n",
        "import numpy as np \n",
        "# Matplotlib is a graphing library\n",
        "import matplotlib.pyplot as plt \n",
        "# math is Python's math library \n",
        "import math"
      ],
      "execution_count": 0,
      "outputs": []
    },
    {
      "cell_type": "code",
      "metadata": {
        "id": "HBMyzOjlnYNl",
        "colab_type": "code",
        "colab": {}
      },
      "source": [
        "SAMPLES = 1000"
      ],
      "execution_count": 0,
      "outputs": []
    },
    {
      "cell_type": "code",
      "metadata": {
        "id": "w9wccaeFnYRM",
        "colab_type": "code",
        "colab": {}
      },
      "source": [
        "SEED = 1337\n",
        "np.random.seed(SEED)\n",
        "tf.random.set_seed(SEED)"
      ],
      "execution_count": 0,
      "outputs": []
    },
    {
      "cell_type": "code",
      "metadata": {
        "id": "SqeImvBlnYUW",
        "colab_type": "code",
        "colab": {}
      },
      "source": [
        "# Generate a uniformly distributed set of random numbers in the range from\n",
        "# 0 to 2n which covers a complete sine wave oscillation\n",
        "x_values = np.random.uniform(low=0,high=2*math.pi, size=SAMPLES)"
      ],
      "execution_count": 0,
      "outputs": []
    },
    {
      "cell_type": "code",
      "metadata": {
        "id": "o9fjNwJAnYXY",
        "colab_type": "code",
        "colab": {}
      },
      "source": [
        "# Shuffle the values to guarantee they're not in order\n",
        "np.random.shuffle(x_values)"
      ],
      "execution_count": 0,
      "outputs": []
    },
    {
      "cell_type": "code",
      "metadata": {
        "id": "fQ0KbqLFnYac",
        "colab_type": "code",
        "colab": {}
      },
      "source": [
        "# Calculate corresponding sine values\n",
        "y_values = np.sin(x_values)"
      ],
      "execution_count": 0,
      "outputs": []
    },
    {
      "cell_type": "code",
      "metadata": {
        "id": "DQqVKz7UnYdP",
        "colab_type": "code",
        "outputId": "b4e24324-2230-40b9-9b82-c59fa8e01050",
        "colab": {
          "base_uri": "https://localhost:8080/",
          "height": 265
        }
      },
      "source": [
        "plt.scatter(x_values,y_values)\n",
        "plt.show()"
      ],
      "execution_count": 0,
      "outputs": [
        {
          "output_type": "display_data",
          "data": {
            "image/png": "[encoded data removed]",
            "text/plain": [
              "<Figure size 432x288 with 1 Axes>"
            ]
          },
          "metadata": {
            "tags": []
          }
        }
      ]
    },
    {
      "cell_type": "markdown",
      "metadata": {
        "id": "RReEJD0NmzAG",
        "colab_type": "text"
      },
      "source": [
        ""
      ]
    },
    {
      "cell_type": "code",
      "metadata": {
        "id": "17xmiJnFm0Hi",
        "colab_type": "code",
        "colab": {}
      },
      "source": [
        "y_values += 0.1 * np.random.randn(*y_values.shape)"
      ],
      "execution_count": 0,
      "outputs": []
    },
    {
      "cell_type": "code",
      "metadata": {
        "id": "gT7C8PfDupmM",
        "colab_type": "code",
        "colab": {}
      },
      "source": [
        ""
      ],
      "execution_count": 0,
      "outputs": []
    },
    {
      "cell_type": "code",
      "metadata": {
        "colab_type": "code",
        "outputId": "e440c12a-3b41-4724-bdd2-f2e4e99527a7",
        "id": "0j9hgBOdvEl-",
        "colab": {
          "base_uri": "https://localhost:8080/",
          "height": 265
        }
      },
      "source": [
        "plt.scatter(x_values,y_values)\n",
        "plt.show()"
      ],
      "execution_count": 0,
      "outputs": [
        {
          "output_type": "display_data",
          "data": {
            "image/png": "[encoded data removed]",
            "text/plain": [
              "<Figure size 432x288 with 1 Axes>"
            ]
          },
          "metadata": {
            "tags": []
          }
        }
      ]
    },
    {
      "cell_type": "markdown",
      "metadata": {
        "id": "eqYi6F1OvdiX",
        "colab_type": "text"
      },
      "source": [
        "Split data into training and testing sets"
      ]
    },
    {
      "cell_type": "code",
      "metadata": {
        "id": "o0Vcq6aJupqe",
        "colab_type": "code",
        "colab": {}
      },
      "source": [
        "TRAIN_SPLIT = int(0.6*SAMPLES)\n",
        "TEST_SPLIT = int(0.2*SAMPLES + TRAIN_SPLIT)"
      ],
      "execution_count": 0,
      "outputs": []
    },
    {
      "cell_type": "code",
      "metadata": {
        "id": "aSNDgL9cwOda",
        "colab_type": "code",
        "colab": {}
      },
      "source": [
        "x_train, x_validate, x_test = np.split(x_values, [])"
      ],
      "execution_count": 0,
      "outputs": []
    },
    {
      "cell_type": "code",
      "metadata": {
        "id": "OQwrMDfpwOhA",
        "colab_type": "code",
        "colab": {}
      },
      "source": [
        ""
      ],
      "execution_count": 0,
      "outputs": []
    },
    {
      "cell_type": "code",
      "metadata": {
        "id": "s7JvZaNlwOjO",
        "colab_type": "code",
        "colab": {}
      },
      "source": [
        ""
      ],
      "execution_count": 0,
      "outputs": []
    },
    {
      "cell_type": "code",
      "metadata": {
        "id": "bHZiiympwOpb",
        "colab_type": "code",
        "colab": {}
      },
      "source": [
        ""
      ],
      "execution_count": 0,
      "outputs": []
    },
    {
      "cell_type": "code",
      "metadata": {
        "id": "Xikrnm9kwOtE",
        "colab_type": "code",
        "colab": {}
      },
      "source": [
        ""
      ],
      "execution_count": 0,
      "outputs": []
    }
  ]
}